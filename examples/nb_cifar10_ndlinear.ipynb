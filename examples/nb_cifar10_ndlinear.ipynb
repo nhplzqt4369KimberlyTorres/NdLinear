{
 "cells": [
  {
   "cell_type": "code",
   "execution_count": null,
   "id": "386c671a",
   "metadata": {},
   "outputs": [],
   "source": [
    "import torch\n",
    "import torch.nn as nn\n",
    "import torch.optim as optim\n",
    "import torchvision\n",
    "import torchvision.transforms as transforms\n",
    "import math\n",
    "from ndlinear import NdLinear "
   ]
  },
  {
   "cell_type": "code",
   "execution_count": null,
   "id": "f4f6a1e0",
   "metadata": {},
   "outputs": [],
   "source": [
    "# Data loading & normalization\n",
    "transform = transforms.Compose([\n",
    "    transforms.ToTensor(),\n",
    "    transforms.Normalize((0.5,), (0.5,))\n",
    "])\n",
    "\n",
    "trainset = torchvision.datasets.CIFAR10(root='./data', train=True, download=True, transform=transform)\n",
    "trainloader = torch.utils.data.DataLoader(trainset, batch_size=64, shuffle=True)\n",
    "\n",
    "testset = torchvision.datasets.CIFAR10(root='./data', train=False, download=True, transform=transform)\n",
    "testloader = torch.utils.data.DataLoader(testset, batch_size=64, shuffle=False)\n"
   ]
  },
  {
   "cell_type": "code",
   "execution_count": null,
   "id": "d350e3e5",
   "metadata": {},
   "outputs": [],
   "source": [
    "# Define a CNN-NdLinear model. \n",
    "class NdCNN(nn.Module):\n",
    "    def __init__(self, input_shape, hidden_size):\n",
    "        super(NdCNN, self).__init__()\n",
    "        \n",
    "        self.conv1 = nn.Conv2d(3, 32, kernel_size=3, padding=1)\n",
    "        self.conv2 = nn.Conv2d(32, 64, kernel_size=3, padding=1)\n",
    "        self.ndlinear = NdLinear(input_shape, hidden_size)\n",
    "        final_dim = math.prod(hidden_size)\n",
    "        self.fc_out = nn.Linear(final_dim, 100)\n",
    "        self.relu = nn.ReLU()\n",
    "        self.pool = nn.MaxPool2d(2, 2)\n",
    "\n",
    "    def forward(self, x):\n",
    "        x = self.pool(self.relu(self.conv1(x)))\n",
    "        x = self.pool(self.relu(self.conv2(x)))\n",
    "        x = self.ndlinear(x)\n",
    "        x = x.view(x.shape[0], -1)\n",
    "        x = self.fc_out(self.relu(x))\n",
    "        return x"
   ]
  },
  {
   "cell_type": "code",
   "execution_count": null,
   "id": "dbab03db",
   "metadata": {},
   "outputs": [],
   "source": [
    "# Set the device. \n",
    "if not torch.backends.mps.is_available():\n",
    "    if not torch.backends.mps.is_built():\n",
    "        print(\"MPS not available because the current PyTorch install was not \"\n",
    "                \"built with MPS enabled.\")\n",
    "    else:\n",
    "        print(\"MPS not available because the current MacOS version is not 12.3+ \"\n",
    "                \"and/or you do not have an MPS-enabled device on this machine.\")\n",
    "    compute_device = torch.device(\"cpu\")\n",
    "else:\n",
    "    compute_device = torch.device(\"mps\")"
   ]
  },
  {
   "cell_type": "code",
   "execution_count": null,
   "id": "7571a8b1",
   "metadata": {},
   "outputs": [],
   "source": [
    "# Instantiate model, loss, and optimizer\n",
    "nd_cnn = NdCNN((64, 8, 8), (32, 8, 8)).to(compute_device)\n",
    "# An example of incorrect usage. This will be equivalent to a naive nn.Linear layer. \n",
    "# nd_cnn = NdCNN((64,), (32,)).to(compute_device)\n",
    "criterion = nn.CrossEntropyLoss()\n",
    "optimizer = optim.Adam(nd_cnn.parameters(), lr=0.001)"
   ]
  },
  {
   "cell_type": "code",
   "execution_count": null,
   "id": "d484dfcb",
   "metadata": {},
   "outputs": [],
   "source": [
    "# Training loop. Display loss and accuracy for each epoch. \n",
    "epochs = 20\n",
    "ndcnn_loss = [] \n",
    "ndcnn_acc = [] \n",
    "params_ndcnn = sum(p.numel() for p in nd_cnn.parameters() if p.requires_grad)\n",
    "for epoch in range(epochs):\n",
    "    nd_cnn.train() \n",
    "    running_loss = 0.0 \n",
    "    correct_ndcnn, total = 0, 0 \n",
    "    for images, labels in trainloader:\n",
    "        images, labels = images.to(compute_device), labels.to(compute_device)\n",
    "        optimizer.zero_grad()\n",
    "        outputs_hyper = nd_cnn(images)\n",
    "        loss_hyper = criterion(outputs_hyper, labels)\n",
    "        loss_hyper.backward()\n",
    "        optimizer.step()\n",
    "        running_loss += loss_hyper.item()\n",
    "        ndcnn_loss.append(running_loss / len(trainloader))\n",
    "\n",
    "    with torch.no_grad():\n",
    "        for images, labels in testloader:\n",
    "            images, labels = images.to(compute_device), labels.to(compute_device)\n",
    "            outputs_hyper = nd_cnn(images)\n",
    "            _, predicted_hyper = torch.max(outputs_hyper, 1)\n",
    "            correct_ndcnn += (predicted_hyper == labels).sum().item()\n",
    "            total += labels.size(0)\n",
    "    ndcnn_acc.append(100 * correct_ndcnn / total)\n",
    "    print(f\"Epoch {epoch+1}/{epochs} - Loss: {ndcnn_loss[-1]:.4f}, Acc: {ndcnn_acc[-1]:.2f}%\")"
   ]
  },
  {
   "cell_type": "code",
   "execution_count": null,
   "id": "dd346f9a",
   "metadata": {},
   "outputs": [],
   "source": []
  }
 ],
 "metadata": {
  "kernelspec": {
   "display_name": ".venv",
   "language": "python",
   "name": "python3"
  },
  "language_info": {
   "codemirror_mode": {
    "name": "ipython",
    "version": 3
   },
   "file_extension": ".py",
   "mimetype": "text/x-python",
   "name": "python",
   "nbconvert_exporter": "python",
   "pygments_lexer": "ipython3",
   "version": "3.12.9"
  }
 },
 "nbformat": 4,
 "nbformat_minor": 5
}
